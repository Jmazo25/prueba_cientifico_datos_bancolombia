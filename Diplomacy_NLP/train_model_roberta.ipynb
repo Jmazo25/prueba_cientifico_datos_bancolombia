{
 "cells": [
  {
   "cell_type": "markdown",
   "metadata": {},
   "source": [
    "### carga de los datos desde google Drive"
   ]
  },
  {
   "cell_type": "code",
   "execution_count": 1,
   "metadata": {
    "colab": {
     "base_uri": "https://localhost:8080/"
    },
    "executionInfo": {
     "elapsed": 21020,
     "status": "ok",
     "timestamp": 1721668100665,
     "user": {
      "displayName": "julian mazo",
      "userId": "12105072284643979037"
     },
     "user_tz": 300
    },
    "id": "_5CGx0akhI7E",
    "outputId": "30ff1783-848b-4522-d6a1-3914cb0a623c"
   },
   "outputs": [
    {
     "name": "stdout",
     "output_type": "stream",
     "text": [
      "Mounted at /content/drive\n"
     ]
    }
   ],
   "source": [
    "from google.colab import drive\n",
    "drive.mount('/content/drive')\n"
   ]
  },
  {
   "cell_type": "code",
   "execution_count": 2,
   "metadata": {
    "executionInfo": {
     "elapsed": 253,
     "status": "ok",
     "timestamp": 1721668105109,
     "user": {
      "displayName": "julian mazo",
      "userId": "12105072284643979037"
     },
     "user_tz": 300
    },
    "id": "TYdIgi_xhyq4"
   },
   "outputs": [],
   "source": [
    "path_train = '/drive/dataset/'"
   ]
  },
  {
   "cell_type": "markdown",
   "metadata": {},
   "source": [
    "### Instala e importa librerías base"
   ]
  },
  {
   "cell_type": "code",
   "execution_count": 3,
   "metadata": {
    "colab": {
     "base_uri": "https://localhost:8080/"
    },
    "executionInfo": {
     "elapsed": 8874,
     "status": "ok",
     "timestamp": 1721668115960,
     "user": {
      "displayName": "julian mazo",
      "userId": "12105072284643979037"
     },
     "user_tz": 300
    },
    "id": "XTxoogHFh49N",
    "outputId": "9e34dfcb-8504-4062-c2e7-407424548708"
   },
   "outputs": [
    {
     "name": "stdout",
     "output_type": "stream",
     "text": [
      "Collecting jsonlines\n",
      "  Downloading jsonlines-4.0.0-py3-none-any.whl (8.7 kB)\n",
      "Requirement already satisfied: pandas in /usr/local/lib/python3.10/dist-packages (2.0.3)\n",
      "Requirement already satisfied: matplotlib in /usr/local/lib/python3.10/dist-packages (3.7.1)\n",
      "Requirement already satisfied: nltk in /usr/local/lib/python3.10/dist-packages (3.8.1)\n",
      "Requirement already satisfied: attrs>=19.2.0 in /usr/local/lib/python3.10/dist-packages (from jsonlines) (23.2.0)\n",
      "Requirement already satisfied: python-dateutil>=2.8.2 in /usr/local/lib/python3.10/dist-packages (from pandas) (2.8.2)\n",
      "Requirement already satisfied: pytz>=2020.1 in /usr/local/lib/python3.10/dist-packages (from pandas) (2023.4)\n",
      "Requirement already satisfied: tzdata>=2022.1 in /usr/local/lib/python3.10/dist-packages (from pandas) (2024.1)\n",
      "Requirement already satisfied: numpy>=1.21.0 in /usr/local/lib/python3.10/dist-packages (from pandas) (1.25.2)\n",
      "Requirement already satisfied: contourpy>=1.0.1 in /usr/local/lib/python3.10/dist-packages (from matplotlib) (1.2.1)\n",
      "Requirement already satisfied: cycler>=0.10 in /usr/local/lib/python3.10/dist-packages (from matplotlib) (0.12.1)\n",
      "Requirement already satisfied: fonttools>=4.22.0 in /usr/local/lib/python3.10/dist-packages (from matplotlib) (4.53.1)\n",
      "Requirement already satisfied: kiwisolver>=1.0.1 in /usr/local/lib/python3.10/dist-packages (from matplotlib) (1.4.5)\n",
      "Requirement already satisfied: packaging>=20.0 in /usr/local/lib/python3.10/dist-packages (from matplotlib) (24.1)\n",
      "Requirement already satisfied: pillow>=6.2.0 in /usr/local/lib/python3.10/dist-packages (from matplotlib) (9.4.0)\n",
      "Requirement already satisfied: pyparsing>=2.3.1 in /usr/local/lib/python3.10/dist-packages (from matplotlib) (3.1.2)\n",
      "Requirement already satisfied: click in /usr/local/lib/python3.10/dist-packages (from nltk) (8.1.7)\n",
      "Requirement already satisfied: joblib in /usr/local/lib/python3.10/dist-packages (from nltk) (1.4.2)\n",
      "Requirement already satisfied: regex>=2021.8.3 in /usr/local/lib/python3.10/dist-packages (from nltk) (2024.5.15)\n",
      "Requirement already satisfied: tqdm in /usr/local/lib/python3.10/dist-packages (from nltk) (4.66.4)\n",
      "Requirement already satisfied: six>=1.5 in /usr/local/lib/python3.10/dist-packages (from python-dateutil>=2.8.2->pandas) (1.16.0)\n",
      "Installing collected packages: jsonlines\n",
      "Successfully installed jsonlines-4.0.0\n"
     ]
    }
   ],
   "source": [
    "!pip install jsonlines pandas matplotlib nltk"
   ]
  },
  {
   "cell_type": "code",
   "execution_count": 4,
   "metadata": {
    "colab": {
     "base_uri": "https://localhost:8080/"
    },
    "executionInfo": {
     "elapsed": 2852,
     "status": "ok",
     "timestamp": 1721668120248,
     "user": {
      "displayName": "julian mazo",
      "userId": "12105072284643979037"
     },
     "user_tz": 300
    },
    "id": "CLeSHKjvnJvn",
    "outputId": "3c73f670-cb1d-48fc-a885-499910a24466"
   },
   "outputs": [
    {
     "name": "stderr",
     "output_type": "stream",
     "text": [
      "[nltk_data] Downloading package stopwords to /root/nltk_data...\n",
      "[nltk_data]   Unzipping corpora/stopwords.zip.\n"
     ]
    }
   ],
   "source": [
    "import jsonlines\n",
    "import pandas as pd\n",
    "import matplotlib.pyplot as plt\n",
    "import seaborn as sns\n",
    "import nltk\n",
    "from nltk.corpus import stopwords\n",
    "nltk.download('stopwords')\n",
    "import re\n",
    "import os"
   ]
  },
  {
   "cell_type": "code",
   "execution_count": 5,
   "metadata": {
    "colab": {
     "base_uri": "https://localhost:8080/"
    },
    "executionInfo": {
     "elapsed": 252,
     "status": "ok",
     "timestamp": 1721668122867,
     "user": {
      "displayName": "julian mazo",
      "userId": "12105072284643979037"
     },
     "user_tz": 300
    },
    "id": "VS_Z5wZ1nWin",
    "outputId": "d2dfc3ee-3569-459a-d896-274e62b73af5"
   },
   "outputs": [
    {
     "name": "stdout",
     "output_type": "stream",
     "text": [
      "/content/drive/MyDrive/prueba_tenica_BC\n"
     ]
    }
   ],
   "source": [
    "%cd   /content/drive/MyDrive/prueba_tenica_BC/"
   ]
  },
  {
   "cell_type": "code",
   "execution_count": 6,
   "metadata": {
    "executionInfo": {
     "elapsed": 236,
     "status": "ok",
     "timestamp": 1721668125157,
     "user": {
      "displayName": "julian mazo",
      "userId": "12105072284643979037"
     },
     "user_tz": 300
    },
    "id": "ShGmBf9EnfG6"
   },
   "outputs": [],
   "source": [
    "def load_data(dataset):\n",
    "    with jsonlines.open(dataset, 'r') as reader:\n",
    "        data = list(reader)\n",
    "        list_messages = []\n",
    "        list_labels = []\n",
    "        for line in data:\n",
    "            list_messages.extend(line['messages'])\n",
    "            list_labels.extend(line['sender_labels'])\n",
    "    dict_out = {'messages': list_messages, 'label': list_labels}\n",
    "    df = pd.DataFrame(dict_out)\n",
    "    return df"
   ]
  },
  {
   "cell_type": "markdown",
   "metadata": {
    "id": "__Eb4yXepblz"
   },
   "source": [
    "### Carga los dataset"
   ]
  },
  {
   "cell_type": "code",
   "execution_count": 111,
   "metadata": {
    "executionInfo": {
     "elapsed": 251,
     "status": "ok",
     "timestamp": 1721694662882,
     "user": {
      "displayName": "julian mazo",
      "userId": "12105072284643979037"
     },
     "user_tz": 300
    },
    "id": "hgMnx3Synl-0"
   },
   "outputs": [],
   "source": [
    "path_test = r'./dataset/test_diplomacy.jsonl'\n",
    "path_train = r'./dataset/train_diplomacy.jsonl'\n",
    "path_validation = r'./dataset/validation_diplomacy.jsonl'"
   ]
  },
  {
   "cell_type": "code",
   "execution_count": 112,
   "metadata": {
    "executionInfo": {
     "elapsed": 233,
     "status": "ok",
     "timestamp": 1721694664295,
     "user": {
      "displayName": "julian mazo",
      "userId": "12105072284643979037"
     },
     "user_tz": 300
    },
    "id": "1Nya_wD_nofE"
   },
   "outputs": [],
   "source": [
    "test=load_data(path_test)\n",
    "train = load_data(path_train)\n",
    "validation = load_data(path_validation)"
   ]
  },
  {
   "cell_type": "markdown",
   "metadata": {
    "id": "B9NM_EpHphQh"
   },
   "source": [
    "### Valida los mensajes vacíos"
   ]
  },
  {
   "cell_type": "code",
   "execution_count": 113,
   "metadata": {
    "colab": {
     "base_uri": "https://localhost:8080/"
    },
    "executionInfo": {
     "elapsed": 222,
     "status": "ok",
     "timestamp": 1721694666864,
     "user": {
      "displayName": "julian mazo",
      "userId": "12105072284643979037"
     },
     "user_tz": 300
    },
    "id": "VYSqji5KnrBN",
    "outputId": "6bc24295-3ff0-4178-c767-865fb10b08a8"
   },
   "outputs": [
    {
     "name": "stdout",
     "output_type": "stream",
     "text": [
      "cantidad de datos vacios de entrenamiento 0\n",
      "cantidad de datos vacios de validacion 0\n",
      "cantidad de datos vacios de test 0\n"
     ]
    }
   ],
   "source": [
    "na_test = test[test.isna().any(axis=1)]\n",
    "na_train = train[train.isna().any(axis=1)]\n",
    "na_vali = validation[validation.isna().any(axis=1)]\n",
    "\n",
    "print(\"cantidad de datos vacios de entrenamiento\" ,na_train.shape[0])\n",
    "print(\"cantidad de datos vacios de validacion\" ,na_vali.shape[0])\n",
    "print(\"cantidad de datos vacios de test\" ,na_test.shape[0])"
   ]
  },
  {
   "cell_type": "markdown",
   "metadata": {
    "id": "xdckKRtHrBfU"
   },
   "source": [
    "### filtrar mensajes con caracteres menores a 10"
   ]
  },
  {
   "cell_type": "code",
   "execution_count": 114,
   "metadata": {
    "executionInfo": {
     "elapsed": 214,
     "status": "ok",
     "timestamp": 1721694670165,
     "user": {
      "displayName": "julian mazo",
      "userId": "12105072284643979037"
     },
     "user_tz": 300
    },
    "id": "pDZD290-n7V9"
   },
   "outputs": [],
   "source": [
    "train_raw = train[train['messages'].str.len() >= 10]\n",
    "val_raw = validation[validation['messages'].str.len() >= 10]\n",
    "test_raw = test[test['messages'].str.len() >= 10]"
   ]
  },
  {
   "cell_type": "code",
   "execution_count": 115,
   "metadata": {
    "colab": {
     "base_uri": "https://localhost:8080/"
    },
    "executionInfo": {
     "elapsed": 230,
     "status": "ok",
     "timestamp": 1721694673452,
     "user": {
      "displayName": "julian mazo",
      "userId": "12105072284643979037"
     },
     "user_tz": 300
    },
    "id": "u_sYqJK0oe6Q",
    "outputId": "7fe11f99-acd5-43c7-92ad-356375ac7519"
   },
   "outputs": [
    {
     "name": "stderr",
     "output_type": "stream",
     "text": [
      "<ipython-input-115-ec19a8b182f0>:1: SettingWithCopyWarning: \n",
      "A value is trying to be set on a copy of a slice from a DataFrame.\n",
      "Try using .loc[row_indexer,col_indexer] = value instead\n",
      "\n",
      "See the caveats in the documentation: https://pandas.pydata.org/pandas-docs/stable/user_guide/indexing.html#returning-a-view-versus-a-copy\n",
      "  train_raw['label'] = (train_raw['label'] == False).astype('int')\n",
      "<ipython-input-115-ec19a8b182f0>:2: SettingWithCopyWarning: \n",
      "A value is trying to be set on a copy of a slice from a DataFrame.\n",
      "Try using .loc[row_indexer,col_indexer] = value instead\n",
      "\n",
      "See the caveats in the documentation: https://pandas.pydata.org/pandas-docs/stable/user_guide/indexing.html#returning-a-view-versus-a-copy\n",
      "  test_raw['label'] = (test_raw['label'] == False).astype('int')\n",
      "<ipython-input-115-ec19a8b182f0>:3: SettingWithCopyWarning: \n",
      "A value is trying to be set on a copy of a slice from a DataFrame.\n",
      "Try using .loc[row_indexer,col_indexer] = value instead\n",
      "\n",
      "See the caveats in the documentation: https://pandas.pydata.org/pandas-docs/stable/user_guide/indexing.html#returning-a-view-versus-a-copy\n",
      "  val_raw['label'] = (val_raw['label'] == False).astype('int')\n"
     ]
    }
   ],
   "source": [
    "train_raw['label'] = (train_raw['label'] == False).astype('int')\n",
    "test_raw['label'] = (test_raw['label'] == False).astype('int')\n",
    "val_raw['label'] = (val_raw['label'] == False).astype('int')\n",
    "\n",
    "train_raw = train_raw.rename(columns={'messages':'text','label':'target' })\n",
    "test_raw = test_raw.rename(columns={'messages':'text','label':'target' })\n",
    "val_raw=val_raw.rename(columns={'messages':'text','label':'target' })"
   ]
  },
  {
   "cell_type": "code",
   "execution_count": 118,
   "metadata": {
    "colab": {
     "base_uri": "https://localhost:8080/"
    },
    "executionInfo": {
     "elapsed": 233,
     "status": "ok",
     "timestamp": 1721694726206,
     "user": {
      "displayName": "julian mazo",
      "userId": "12105072284643979037"
     },
     "user_tz": 300
    },
    "id": "h4jbLS1EcKBP",
    "outputId": "5c285b62-4fd9-492a-bb28-0ef07f05695e"
   },
   "outputs": [
    {
     "name": "stderr",
     "output_type": "stream",
     "text": [
      "<ipython-input-118-f0eb8f92501f>:3: SettingWithCopyWarning: \n",
      "A value is trying to be set on a copy of a slice from a DataFrame.\n",
      "Try using .loc[row_indexer,col_indexer] = value instead\n",
      "\n",
      "See the caveats in the documentation: https://pandas.pydata.org/pandas-docs/stable/user_guide/indexing.html#returning-a-view-versus-a-copy\n",
      "  train_true['lenght'] = train_true['text'].str.split().str.len()\n"
     ]
    },
    {
     "data": {
      "text/plain": [
       "5617"
      ]
     },
     "execution_count": 118,
     "metadata": {},
     "output_type": "execute_result"
    }
   ],
   "source": [
    "train_false = train_raw[train_raw['target'] == 1]\n",
    "train_true = train_raw[train_raw['target'] == 0]\n",
    "train_true['lenght'] = train_true['text'].str.split().str.len()\n",
    "train_true = train_true[(train_true['lenght'] <= 13)]\n",
    "train_true.shape[0]"
   ]
  },
  {
   "cell_type": "code",
   "execution_count": 119,
   "metadata": {
    "colab": {
     "base_uri": "https://localhost:8080/"
    },
    "executionInfo": {
     "elapsed": 229,
     "status": "ok",
     "timestamp": 1721694731845,
     "user": {
      "displayName": "julian mazo",
      "userId": "12105072284643979037"
     },
     "user_tz": 300
    },
    "id": "8uDRNgqs5FTz",
    "outputId": "767570c1-cafe-4940-cdf9-d87c7b1403ff"
   },
   "outputs": [
    {
     "data": {
      "text/plain": [
       "(5617, 2)"
      ]
     },
     "execution_count": 119,
     "metadata": {},
     "output_type": "execute_result"
    }
   ],
   "source": [
    "train_new_true = train_true[['text','target']]\n",
    "train_new_true.shape"
   ]
  },
  {
   "cell_type": "code",
   "execution_count": 120,
   "metadata": {
    "executionInfo": {
     "elapsed": 213,
     "status": "ok",
     "timestamp": 1721694734556,
     "user": {
      "displayName": "julian mazo",
      "userId": "12105072284643979037"
     },
     "user_tz": 300
    },
    "id": "dfRuIOse5LAn"
   },
   "outputs": [],
   "source": [
    "train_raw = pd.concat([train_new_true, train_false], axis=0)\n",
    "train_raw = train_raw.sample(frac=1).reset_index(drop=True)"
   ]
  },
  {
   "cell_type": "code",
   "execution_count": 121,
   "metadata": {
    "colab": {
     "base_uri": "https://localhost:8080/",
     "height": 424
    },
    "executionInfo": {
     "elapsed": 223,
     "status": "ok",
     "timestamp": 1721694736416,
     "user": {
      "displayName": "julian mazo",
      "userId": "12105072284643979037"
     },
     "user_tz": 300
    },
    "id": "4YQuWhSN5cdG",
    "outputId": "e41ec6fa-bc07-4ec5-f305-43484049ec85"
   },
   "outputs": [
    {
     "data": {
      "application/vnd.google.colaboratory.intrinsic+json": {
       "summary": "{\n  \"name\": \"train_raw[train_raw['target'] == 1]\",\n  \"rows\": 570,\n  \"fields\": [\n    {\n      \"column\": \"text\",\n      \"properties\": {\n        \"dtype\": \"string\",\n        \"num_unique_values\": 567,\n        \"samples\": [\n          \"Yes\\u2014he said he wanted to get support to belgium... but he could have done this with a fleet as well, so I think it may have been an aggresive move(even though he insists we are still allies)... and for this reason I'm going to tell you that he said he was planning on attacking you, although not completely full fledged(the fleet in spain and the army in mar). Just a fair warning, and since it seems like you don't have your hands too full over there maybe start worrieng about france? UP to you\",\n          \"Yeah sounds good! Can you sup me into Sweden? I\\u2019ll give you Norway if you do...\",\n          \"While you're being nice to him, he's planning his attack\"\n        ],\n        \"semantic_type\": \"\",\n        \"description\": \"\"\n      }\n    },\n    {\n      \"column\": \"target\",\n      \"properties\": {\n        \"dtype\": \"number\",\n        \"std\": 0,\n        \"min\": 1,\n        \"max\": 1,\n        \"num_unique_values\": 1,\n        \"samples\": [\n          1\n        ],\n        \"semantic_type\": \"\",\n        \"description\": \"\"\n      }\n    }\n  ]\n}",
       "type": "dataframe"
      },
      "text/html": [
       "\n",
       "  <div id=\"df-eb8efe6d-ab40-4754-9d79-72ca5721afcf\" class=\"colab-df-container\">\n",
       "    <div>\n",
       "<style scoped>\n",
       "    .dataframe tbody tr th:only-of-type {\n",
       "        vertical-align: middle;\n",
       "    }\n",
       "\n",
       "    .dataframe tbody tr th {\n",
       "        vertical-align: top;\n",
       "    }\n",
       "\n",
       "    .dataframe thead th {\n",
       "        text-align: right;\n",
       "    }\n",
       "</style>\n",
       "<table border=\"1\" class=\"dataframe\">\n",
       "  <thead>\n",
       "    <tr style=\"text-align: right;\">\n",
       "      <th></th>\n",
       "      <th>text</th>\n",
       "      <th>target</th>\n",
       "    </tr>\n",
       "  </thead>\n",
       "  <tbody>\n",
       "    <tr>\n",
       "      <th>14</th>\n",
       "      <td>we don't let germany win</td>\n",
       "      <td>1</td>\n",
       "    </tr>\n",
       "    <tr>\n",
       "      <th>27</th>\n",
       "      <td>Oh I just realized Germany is getting a build,...</td>\n",
       "      <td>1</td>\n",
       "    </tr>\n",
       "    <tr>\n",
       "      <th>29</th>\n",
       "      <td>I think that we can pull off a great turn, but...</td>\n",
       "      <td>1</td>\n",
       "    </tr>\n",
       "    <tr>\n",
       "      <th>31</th>\n",
       "      <td>Nice! Get’em! He WAS moving on you. But we sho...</td>\n",
       "      <td>1</td>\n",
       "    </tr>\n",
       "    <tr>\n",
       "      <th>40</th>\n",
       "      <td>I would not and have not said you are plotting...</td>\n",
       "      <td>1</td>\n",
       "    </tr>\n",
       "    <tr>\n",
       "      <th>...</th>\n",
       "      <td>...</td>\n",
       "      <td>...</td>\n",
       "    </tr>\n",
       "    <tr>\n",
       "      <th>6078</th>\n",
       "      <td>Hello Turkey. We share natural enemies in Russ...</td>\n",
       "      <td>1</td>\n",
       "    </tr>\n",
       "    <tr>\n",
       "      <th>6083</th>\n",
       "      <td>Alright, will you be able to provide support t...</td>\n",
       "      <td>1</td>\n",
       "    </tr>\n",
       "    <tr>\n",
       "      <th>6086</th>\n",
       "      <td>Perhaps you’d like support to Brest?</td>\n",
       "      <td>1</td>\n",
       "    </tr>\n",
       "    <tr>\n",
       "      <th>6088</th>\n",
       "      <td>We’re friends, right? I believe that every sin...</td>\n",
       "      <td>1</td>\n",
       "    </tr>\n",
       "    <tr>\n",
       "      <th>6118</th>\n",
       "      <td>Yes, we xposted, but we are thinking the same ...</td>\n",
       "      <td>1</td>\n",
       "    </tr>\n",
       "  </tbody>\n",
       "</table>\n",
       "<p>570 rows × 2 columns</p>\n",
       "</div>\n",
       "    <div class=\"colab-df-buttons\">\n",
       "\n",
       "  <div class=\"colab-df-container\">\n",
       "    <button class=\"colab-df-convert\" onclick=\"convertToInteractive('df-eb8efe6d-ab40-4754-9d79-72ca5721afcf')\"\n",
       "            title=\"Convert this dataframe to an interactive table.\"\n",
       "            style=\"display:none;\">\n",
       "\n",
       "  <svg xmlns=\"http://www.w3.org/2000/svg\" height=\"24px\" viewBox=\"0 -960 960 960\">\n",
       "    <path d=\"M120-120v-720h720v720H120Zm60-500h600v-160H180v160Zm220 220h160v-160H400v160Zm0 220h160v-160H400v160ZM180-400h160v-160H180v160Zm440 0h160v-160H620v160ZM180-180h160v-160H180v160Zm440 0h160v-160H620v160Z\"/>\n",
       "  </svg>\n",
       "    </button>\n",
       "\n",
       "  <style>\n",
       "    .colab-df-container {\n",
       "      display:flex;\n",
       "      gap: 12px;\n",
       "    }\n",
       "\n",
       "    .colab-df-convert {\n",
       "      background-color: #E8F0FE;\n",
       "      border: none;\n",
       "      border-radius: 50%;\n",
       "      cursor: pointer;\n",
       "      display: none;\n",
       "      fill: #1967D2;\n",
       "      height: 32px;\n",
       "      padding: 0 0 0 0;\n",
       "      width: 32px;\n",
       "    }\n",
       "\n",
       "    .colab-df-convert:hover {\n",
       "      background-color: #E2EBFA;\n",
       "      box-shadow: 0px 1px 2px rgba(60, 64, 67, 0.3), 0px 1px 3px 1px rgba(60, 64, 67, 0.15);\n",
       "      fill: #174EA6;\n",
       "    }\n",
       "\n",
       "    .colab-df-buttons div {\n",
       "      margin-bottom: 4px;\n",
       "    }\n",
       "\n",
       "    [theme=dark] .colab-df-convert {\n",
       "      background-color: #3B4455;\n",
       "      fill: #D2E3FC;\n",
       "    }\n",
       "\n",
       "    [theme=dark] .colab-df-convert:hover {\n",
       "      background-color: #434B5C;\n",
       "      box-shadow: 0px 1px 3px 1px rgba(0, 0, 0, 0.15);\n",
       "      filter: drop-shadow(0px 1px 2px rgba(0, 0, 0, 0.3));\n",
       "      fill: #FFFFFF;\n",
       "    }\n",
       "  </style>\n",
       "\n",
       "    <script>\n",
       "      const buttonEl =\n",
       "        document.querySelector('#df-eb8efe6d-ab40-4754-9d79-72ca5721afcf button.colab-df-convert');\n",
       "      buttonEl.style.display =\n",
       "        google.colab.kernel.accessAllowed ? 'block' : 'none';\n",
       "\n",
       "      async function convertToInteractive(key) {\n",
       "        const element = document.querySelector('#df-eb8efe6d-ab40-4754-9d79-72ca5721afcf');\n",
       "        const dataTable =\n",
       "          await google.colab.kernel.invokeFunction('convertToInteractive',\n",
       "                                                    [key], {});\n",
       "        if (!dataTable) return;\n",
       "\n",
       "        const docLinkHtml = 'Like what you see? Visit the ' +\n",
       "          '<a target=\"_blank\" href=https://colab.research.google.com/notebooks/data_table.ipynb>data table notebook</a>'\n",
       "          + ' to learn more about interactive tables.';\n",
       "        element.innerHTML = '';\n",
       "        dataTable['output_type'] = 'display_data';\n",
       "        await google.colab.output.renderOutput(dataTable, element);\n",
       "        const docLink = document.createElement('div');\n",
       "        docLink.innerHTML = docLinkHtml;\n",
       "        element.appendChild(docLink);\n",
       "      }\n",
       "    </script>\n",
       "  </div>\n",
       "\n",
       "\n",
       "<div id=\"df-cd39ffd0-5c49-42da-b033-2d5386a14e86\">\n",
       "  <button class=\"colab-df-quickchart\" onclick=\"quickchart('df-cd39ffd0-5c49-42da-b033-2d5386a14e86')\"\n",
       "            title=\"Suggest charts\"\n",
       "            style=\"display:none;\">\n",
       "\n",
       "<svg xmlns=\"http://www.w3.org/2000/svg\" height=\"24px\"viewBox=\"0 0 24 24\"\n",
       "     width=\"24px\">\n",
       "    <g>\n",
       "        <path d=\"M19 3H5c-1.1 0-2 .9-2 2v14c0 1.1.9 2 2 2h14c1.1 0 2-.9 2-2V5c0-1.1-.9-2-2-2zM9 17H7v-7h2v7zm4 0h-2V7h2v10zm4 0h-2v-4h2v4z\"/>\n",
       "    </g>\n",
       "</svg>\n",
       "  </button>\n",
       "\n",
       "<style>\n",
       "  .colab-df-quickchart {\n",
       "      --bg-color: #E8F0FE;\n",
       "      --fill-color: #1967D2;\n",
       "      --hover-bg-color: #E2EBFA;\n",
       "      --hover-fill-color: #174EA6;\n",
       "      --disabled-fill-color: #AAA;\n",
       "      --disabled-bg-color: #DDD;\n",
       "  }\n",
       "\n",
       "  [theme=dark] .colab-df-quickchart {\n",
       "      --bg-color: #3B4455;\n",
       "      --fill-color: #D2E3FC;\n",
       "      --hover-bg-color: #434B5C;\n",
       "      --hover-fill-color: #FFFFFF;\n",
       "      --disabled-bg-color: #3B4455;\n",
       "      --disabled-fill-color: #666;\n",
       "  }\n",
       "\n",
       "  .colab-df-quickchart {\n",
       "    background-color: var(--bg-color);\n",
       "    border: none;\n",
       "    border-radius: 50%;\n",
       "    cursor: pointer;\n",
       "    display: none;\n",
       "    fill: var(--fill-color);\n",
       "    height: 32px;\n",
       "    padding: 0;\n",
       "    width: 32px;\n",
       "  }\n",
       "\n",
       "  .colab-df-quickchart:hover {\n",
       "    background-color: var(--hover-bg-color);\n",
       "    box-shadow: 0 1px 2px rgba(60, 64, 67, 0.3), 0 1px 3px 1px rgba(60, 64, 67, 0.15);\n",
       "    fill: var(--button-hover-fill-color);\n",
       "  }\n",
       "\n",
       "  .colab-df-quickchart-complete:disabled,\n",
       "  .colab-df-quickchart-complete:disabled:hover {\n",
       "    background-color: var(--disabled-bg-color);\n",
       "    fill: var(--disabled-fill-color);\n",
       "    box-shadow: none;\n",
       "  }\n",
       "\n",
       "  .colab-df-spinner {\n",
       "    border: 2px solid var(--fill-color);\n",
       "    border-color: transparent;\n",
       "    border-bottom-color: var(--fill-color);\n",
       "    animation:\n",
       "      spin 1s steps(1) infinite;\n",
       "  }\n",
       "\n",
       "  @keyframes spin {\n",
       "    0% {\n",
       "      border-color: transparent;\n",
       "      border-bottom-color: var(--fill-color);\n",
       "      border-left-color: var(--fill-color);\n",
       "    }\n",
       "    20% {\n",
       "      border-color: transparent;\n",
       "      border-left-color: var(--fill-color);\n",
       "      border-top-color: var(--fill-color);\n",
       "    }\n",
       "    30% {\n",
       "      border-color: transparent;\n",
       "      border-left-color: var(--fill-color);\n",
       "      border-top-color: var(--fill-color);\n",
       "      border-right-color: var(--fill-color);\n",
       "    }\n",
       "    40% {\n",
       "      border-color: transparent;\n",
       "      border-right-color: var(--fill-color);\n",
       "      border-top-color: var(--fill-color);\n",
       "    }\n",
       "    60% {\n",
       "      border-color: transparent;\n",
       "      border-right-color: var(--fill-color);\n",
       "    }\n",
       "    80% {\n",
       "      border-color: transparent;\n",
       "      border-right-color: var(--fill-color);\n",
       "      border-bottom-color: var(--fill-color);\n",
       "    }\n",
       "    90% {\n",
       "      border-color: transparent;\n",
       "      border-bottom-color: var(--fill-color);\n",
       "    }\n",
       "  }\n",
       "</style>\n",
       "\n",
       "  <script>\n",
       "    async function quickchart(key) {\n",
       "      const quickchartButtonEl =\n",
       "        document.querySelector('#' + key + ' button');\n",
       "      quickchartButtonEl.disabled = true;  // To prevent multiple clicks.\n",
       "      quickchartButtonEl.classList.add('colab-df-spinner');\n",
       "      try {\n",
       "        const charts = await google.colab.kernel.invokeFunction(\n",
       "            'suggestCharts', [key], {});\n",
       "      } catch (error) {\n",
       "        console.error('Error during call to suggestCharts:', error);\n",
       "      }\n",
       "      quickchartButtonEl.classList.remove('colab-df-spinner');\n",
       "      quickchartButtonEl.classList.add('colab-df-quickchart-complete');\n",
       "    }\n",
       "    (() => {\n",
       "      let quickchartButtonEl =\n",
       "        document.querySelector('#df-cd39ffd0-5c49-42da-b033-2d5386a14e86 button');\n",
       "      quickchartButtonEl.style.display =\n",
       "        google.colab.kernel.accessAllowed ? 'block' : 'none';\n",
       "    })();\n",
       "  </script>\n",
       "</div>\n",
       "\n",
       "    </div>\n",
       "  </div>\n"
      ],
      "text/plain": [
       "                                                   text  target\n",
       "14                             we don't let germany win       1\n",
       "27    Oh I just realized Germany is getting a build,...       1\n",
       "29    I think that we can pull off a great turn, but...       1\n",
       "31    Nice! Get’em! He WAS moving on you. But we sho...       1\n",
       "40    I would not and have not said you are plotting...       1\n",
       "...                                                 ...     ...\n",
       "6078  Hello Turkey. We share natural enemies in Russ...       1\n",
       "6083  Alright, will you be able to provide support t...       1\n",
       "6086               Perhaps you’d like support to Brest?       1\n",
       "6088  We’re friends, right? I believe that every sin...       1\n",
       "6118  Yes, we xposted, but we are thinking the same ...       1\n",
       "\n",
       "[570 rows x 2 columns]"
      ]
     },
     "execution_count": 121,
     "metadata": {},
     "output_type": "execute_result"
    }
   ],
   "source": [
    "train_raw[train_raw['target'] == 1]"
   ]
  },
  {
   "cell_type": "markdown",
   "metadata": {},
   "source": [
    "### Instala las librerías necesarias de Transformers"
   ]
  },
  {
   "cell_type": "code",
   "execution_count": 14,
   "metadata": {
    "colab": {
     "base_uri": "https://localhost:8080/"
    },
    "executionInfo": {
     "elapsed": 5732,
     "status": "ok",
     "timestamp": 1721668238108,
     "user": {
      "displayName": "julian mazo",
      "userId": "12105072284643979037"
     },
     "user_tz": 300
    },
    "id": "JskXBDxEcGeP",
    "outputId": "ba8c86e9-d884-4683-9545-fceef77b8467"
   },
   "outputs": [
    {
     "name": "stdout",
     "output_type": "stream",
     "text": [
      "Requirement already satisfied: transformers in /usr/local/lib/python3.10/dist-packages (4.42.4)\n",
      "Requirement already satisfied: filelock in /usr/local/lib/python3.10/dist-packages (from transformers) (3.15.4)\n",
      "Requirement already satisfied: huggingface-hub<1.0,>=0.23.2 in /usr/local/lib/python3.10/dist-packages (from transformers) (0.23.5)\n",
      "Requirement already satisfied: numpy<2.0,>=1.17 in /usr/local/lib/python3.10/dist-packages (from transformers) (1.25.2)\n",
      "Requirement already satisfied: packaging>=20.0 in /usr/local/lib/python3.10/dist-packages (from transformers) (24.1)\n",
      "Requirement already satisfied: pyyaml>=5.1 in /usr/local/lib/python3.10/dist-packages (from transformers) (6.0.1)\n",
      "Requirement already satisfied: regex!=2019.12.17 in /usr/local/lib/python3.10/dist-packages (from transformers) (2024.5.15)\n",
      "Requirement already satisfied: requests in /usr/local/lib/python3.10/dist-packages (from transformers) (2.31.0)\n",
      "Requirement already satisfied: safetensors>=0.4.1 in /usr/local/lib/python3.10/dist-packages (from transformers) (0.4.3)\n",
      "Requirement already satisfied: tokenizers<0.20,>=0.19 in /usr/local/lib/python3.10/dist-packages (from transformers) (0.19.1)\n",
      "Requirement already satisfied: tqdm>=4.27 in /usr/local/lib/python3.10/dist-packages (from transformers) (4.66.4)\n",
      "Requirement already satisfied: fsspec>=2023.5.0 in /usr/local/lib/python3.10/dist-packages (from huggingface-hub<1.0,>=0.23.2->transformers) (2023.6.0)\n",
      "Requirement already satisfied: typing-extensions>=3.7.4.3 in /usr/local/lib/python3.10/dist-packages (from huggingface-hub<1.0,>=0.23.2->transformers) (4.12.2)\n",
      "Requirement already satisfied: charset-normalizer<4,>=2 in /usr/local/lib/python3.10/dist-packages (from requests->transformers) (3.3.2)\n",
      "Requirement already satisfied: idna<4,>=2.5 in /usr/local/lib/python3.10/dist-packages (from requests->transformers) (3.7)\n",
      "Requirement already satisfied: urllib3<3,>=1.21.1 in /usr/local/lib/python3.10/dist-packages (from requests->transformers) (2.0.7)\n",
      "Requirement already satisfied: certifi>=2017.4.17 in /usr/local/lib/python3.10/dist-packages (from requests->transformers) (2024.7.4)\n"
     ]
    }
   ],
   "source": [
    "!pip install transformers"
   ]
  },
  {
   "cell_type": "code",
   "execution_count": 31,
   "metadata": {
    "colab": {
     "base_uri": "https://localhost:8080/"
    },
    "executionInfo": {
     "elapsed": 698,
     "status": "ok",
     "timestamp": 1721668945310,
     "user": {
      "displayName": "julian mazo",
      "userId": "12105072284643979037"
     },
     "user_tz": 300
    },
    "id": "zUfAis7jdrA_",
    "outputId": "8f3be717-d38b-4c46-c03d-0eba3a3cc599"
   },
   "outputs": [
    {
     "name": "stderr",
     "output_type": "stream",
     "text": [
      "[nltk_data] Downloading package stopwords to /root/nltk_data...\n",
      "[nltk_data]   Package stopwords is already up-to-date!\n",
      "[nltk_data] Downloading package punkt to /root/nltk_data...\n",
      "[nltk_data]   Unzipping tokenizers/punkt.zip.\n"
     ]
    },
    {
     "data": {
      "text/plain": [
       "True"
      ]
     },
     "execution_count": 31,
     "metadata": {},
     "output_type": "execute_result"
    }
   ],
   "source": [
    "from nltk.corpus import stopwords\n",
    "nltk.download('stopwords')\n",
    "nltk.download('punkt')"
   ]
  },
  {
   "cell_type": "markdown",
   "metadata": {},
   "source": [
    "### Crea la carga del dataset y tokenizador"
   ]
  },
  {
   "cell_type": "code",
   "execution_count": 99,
   "metadata": {
    "executionInfo": {
     "elapsed": 244,
     "status": "ok",
     "timestamp": 1721693077237,
     "user": {
      "displayName": "julian mazo",
      "userId": "12105072284643979037"
     },
     "user_tz": 300
    },
    "id": "PoG7lUjJdqB0"
   },
   "outputs": [],
   "source": [
    "from torch.utils.data import Dataset\n",
    "import numpy as np\n",
    "import re\n",
    "import nltk\n",
    "import string\n",
    "\n",
    "class diplomacy_dataset(Dataset):\n",
    "    def __init__(self, dataframe, tokenizer):\n",
    "        texts = dataframe.text.values.tolist()\n",
    "\n",
    "        texts = [self._preprocess(text) for text in texts]\n",
    "\n",
    "        self._print_random_samples(texts)\n",
    "\n",
    "        self.texts = [tokenizer(text, padding='max_length',\n",
    "                                max_length=150,\n",
    "                                truncation=True,\n",
    "                                return_tensors=\"pt\")\n",
    "                      for text in texts]\n",
    "\n",
    "        if 'target' in dataframe:\n",
    "            classes = dataframe.target.values.tolist()\n",
    "            self.labels = classes\n",
    "\n",
    "    def _print_random_samples(self, texts):\n",
    "        np.random.seed(42)\n",
    "        random_entries = np.random.randint(0, len(texts), 5)\n",
    "\n",
    "        for i in random_entries:\n",
    "            print(f\"Entry {i}: {texts[i]}\")\n",
    "\n",
    "        print()\n",
    "\n",
    "    def _preprocess(self, text):\n",
    "        text = self._remove_multiple_spaces(text)\n",
    "\n",
    "        #text = self._lowercase(text)\n",
    "        text = self._remove_punctuation(text)\n",
    "        #text = self._remove_numbers(text)\n",
    "\n",
    "        text_tokens = self._tokenize(text)\n",
    "        text_tokens = self._stopword_filtering(text_tokens)\n",
    "        #text_tokens = self._stemming(text_tokens)\n",
    "        text = self._stitch_text_tokens_together(text_tokens)\n",
    "\n",
    "        return text.strip()\n",
    "\n",
    "\n",
    "    def _remove_amp(self, text):\n",
    "        return text.replace(\"&amp;\", \" \")\n",
    "\n",
    "    def _remove_mentions(self, text):\n",
    "        return re.sub(r'(@.*?)[\\s]', ' ', text)\n",
    "\n",
    "    def _remove_multiple_spaces(self, text):\n",
    "        return re.sub(r'\\s+', ' ', text)\n",
    "\n",
    "    def _remove_retweets(self, text):\n",
    "        return re.sub(r'^RT[\\s]+', ' ', text)\n",
    "\n",
    "    def _remove_links(self, text):\n",
    "        return re.sub(r'https?:\\/\\/[^\\s\\n\\r]+', ' ', text)\n",
    "\n",
    "    def _remove_hashes(self, text):\n",
    "        return re.sub(r'#', ' ', text)\n",
    "\n",
    "    def _stitch_text_tokens_together(self, text_tokens):\n",
    "        return \" \".join(text_tokens)\n",
    "\n",
    "    def _tokenize(self, text):\n",
    "        return nltk.word_tokenize(text, language=\"english\")\n",
    "\n",
    "    def _stopword_filtering(self, text_tokens):\n",
    "        stop_words = nltk.corpus.stopwords.words('english')\n",
    "\n",
    "        return [token for token in text_tokens if token not in stop_words]\n",
    "\n",
    "    def _stemming(self, text_tokens):\n",
    "        porter = nltk.stem.porter.PorterStemmer()\n",
    "        return [porter.stem(token) for token in text_tokens]\n",
    "\n",
    "    def _remove_numbers(self, text):\n",
    "        return re.sub(r'\\d+', ' ', text)\n",
    "\n",
    "    def _lowercase(self, text):\n",
    "        return text.lower()\n",
    "\n",
    "    def _remove_punctuation(self, text):\n",
    "        return ''.join(character for character in text if character not in string.punctuation)\n",
    "\n",
    "    def __len__(self):\n",
    "        return len(self.texts)\n",
    "\n",
    "    def __getitem__(self, idx):\n",
    "        text = self.texts[idx]\n",
    "\n",
    "        label = -1\n",
    "        if hasattr(self, 'labels'):\n",
    "            label = self.labels[idx]\n",
    "\n",
    "        return text, label"
   ]
  },
  {
   "cell_type": "markdown",
   "metadata": {
    "id": "MyIaDiiCc23y"
   },
   "source": [
    "### Contruyendo el clasificador o arquitectura de red para el modelo"
   ]
  },
  {
   "cell_type": "code",
   "execution_count": 100,
   "metadata": {
    "executionInfo": {
     "elapsed": 216,
     "status": "ok",
     "timestamp": 1721693083820,
     "user": {
      "displayName": "julian mazo",
      "userId": "12105072284643979037"
     },
     "user_tz": 300
    },
    "id": "XOeyWyQmbPwG"
   },
   "outputs": [],
   "source": [
    "from torch import nn\n",
    "\n",
    "class diplomacy_classifier(nn.Module):\n",
    "    def __init__(self, base_model):\n",
    "        super(diplomacy_classifier, self).__init__()\n",
    "\n",
    "        self.bert = base_model\n",
    "        self.fc1 = nn.Linear(768, 32)\n",
    "        self.fc2 = nn.Linear(32, 1)\n",
    "\n",
    "        self.relu = nn.ReLU()\n",
    "        self.sigmoid = nn.Sigmoid()\n",
    "\n",
    "    def forward(self, input_ids, attention_mask):\n",
    "        bert_out = self.bert(input_ids=input_ids,\n",
    "                             attention_mask=attention_mask)[0][:, 0]\n",
    "        x = self.fc1(bert_out)\n",
    "        x = self.relu(x)\n",
    "\n",
    "        x = self.fc2(x)\n",
    "        x = self.sigmoid(x)\n",
    "\n",
    "        return x"
   ]
  },
  {
   "cell_type": "markdown",
   "metadata": {},
   "source": [
    "### Función de entrenamiento"
   ]
  },
  {
   "cell_type": "code",
   "execution_count": 128,
   "metadata": {
    "executionInfo": {
     "elapsed": 278,
     "status": "ok",
     "timestamp": 1721696085142,
     "user": {
      "displayName": "julian mazo",
      "userId": "12105072284643979037"
     },
     "user_tz": 300
    },
    "id": "xLQ1bmP4bPy1"
   },
   "outputs": [],
   "source": [
    "import torch\n",
    "from torch.optim import Adam, AdamW\n",
    "from tqdm import tqdm\n",
    "\n",
    "def train(model, train_dataloader, val_dataloader, learning_rate, epochs):\n",
    "    best_val_loss = float('inf')\n",
    "    early_stopping_threshold_count = 0\n",
    "\n",
    "\n",
    "    use_cuda = torch.cuda.is_available()\n",
    "    device = torch.device(\"cuda\" if use_cuda else \"cpu\")\n",
    "\n",
    "    #loss_function = torch.nn.BCELoss(weight=weights)\n",
    "    weights = torch.tensor([8.0])\n",
    "    criterion = nn.BCELoss(weight=None)\n",
    "    optimizer = AdamW(model.parameters(), lr=learning_rate)\n",
    "\n",
    "    model = model.to(device)\n",
    "    criterion = criterion.to(device)\n",
    "\n",
    "    for epoch in range(epochs):\n",
    "        total_acc_train = 0\n",
    "        total_loss_train = 0\n",
    "\n",
    "        model.train()\n",
    "\n",
    "        for train_input, train_label in tqdm(train_dataloader):\n",
    "            attention_mask = train_input['attention_mask'].to(device)\n",
    "            input_ids = train_input['input_ids'].squeeze(1).to(device)\n",
    "\n",
    "            train_label = train_label.to(device)\n",
    "\n",
    "            output = model(input_ids, attention_mask)\n",
    "\n",
    "            loss = criterion(output, train_label.float().unsqueeze(1))\n",
    "\n",
    "            total_loss_train += loss.item()\n",
    "\n",
    "            acc = ((output >= 0.5).int() == train_label.unsqueeze(1)).sum().item()\n",
    "            total_acc_train += acc\n",
    "\n",
    "            loss.backward()\n",
    "            optimizer.step()\n",
    "            optimizer.zero_grad()\n",
    "\n",
    "        with torch.no_grad():\n",
    "            total_acc_val = 0\n",
    "            total_loss_val = 0\n",
    "\n",
    "            model.eval()\n",
    "\n",
    "            for val_input, val_label in tqdm(val_dataloader):\n",
    "                attention_mask = val_input['attention_mask'].to(device)\n",
    "                input_ids = val_input['input_ids'].squeeze(1).to(device)\n",
    "\n",
    "                val_label = val_label.to(device)\n",
    "\n",
    "                output = model(input_ids, attention_mask)\n",
    "\n",
    "                loss = criterion(output, val_label.float().unsqueeze(1))\n",
    "\n",
    "                total_loss_val += loss.item()\n",
    "\n",
    "                acc = ((output >= 0.5).int() == val_label.unsqueeze(1)).sum().item()\n",
    "                total_acc_val += acc\n",
    "\n",
    "            print(f'Epochs: {epoch + 1} '\n",
    "                  f'| Train Loss: {total_loss_train / len(train_dataloader): .3f} '\n",
    "                  f'| Train Accuracy: {total_acc_train / (len(train_dataloader.dataset)): .3f} '\n",
    "                  f'| Val Loss: {total_loss_val / len(val_dataloader): .3f} '\n",
    "                  f'| Val Accuracy: {total_acc_val / len(val_dataloader.dataset): .3f}')\n",
    "\n",
    "            if best_val_loss > total_loss_val:\n",
    "                best_val_loss = total_loss_val\n",
    "                torch.save(model, f\"best_model_10.pt\")\n",
    "                print(\"Saved model\")\n",
    "                early_stopping_threshold_count = 0\n",
    "            else:\n",
    "                early_stopping_threshold_count += 1\n",
    "\n",
    "            if early_stopping_threshold_count >= 1:\n",
    "                print(\"Early stopping\")\n",
    "                continue"
   ]
  },
  {
   "cell_type": "markdown",
   "metadata": {},
   "source": [
    "### Establece el modelo de BERT, en este caso roBERTa"
   ]
  },
  {
   "cell_type": "code",
   "execution_count": 129,
   "metadata": {
    "colab": {
     "base_uri": "https://localhost:8080/"
    },
    "executionInfo": {
     "elapsed": 4019,
     "status": "ok",
     "timestamp": 1721696095416,
     "user": {
      "displayName": "julian mazo",
      "userId": "12105072284643979037"
     },
     "user_tz": 300
    },
    "id": "mKhLpK-_e4dJ",
    "outputId": "7775ea22-2280-4a56-b2ec-e6c90ab8e08b"
   },
   "outputs": [
    {
     "name": "stderr",
     "output_type": "stream",
     "text": [
      "Some weights of RobertaModel were not initialized from the model checkpoint at roberta-base and are newly initialized: ['roberta.pooler.dense.bias', 'roberta.pooler.dense.weight']\n",
      "You should probably TRAIN this model on a down-stream task to be able to use it for predictions and inference.\n"
     ]
    },
    {
     "name": "stdout",
     "output_type": "stream",
     "text": [
      "Entry 860: Alright What plans North Sea days\n",
      "Entry 5390: What us stuff would like discuss\n",
      "Entry 5226: Where work\n",
      "Entry 5191: That ’ fair It ’ also make sense mess around Greece build army focus navy If structure build types well keep relationship fairly balanced I think I might able sneak Italian gains early considering moving direction Russia stays Gal 1901 If works ’ worry Lepanto\n",
      "Entry 3772: Turkey may take lot\n",
      "\n",
      "Entry 1126: I gon na self bounce Rumania\n",
      "Entry 860: Ok supporting Burgundy Up\n",
      "Entry 1294: Id prefer make go Austria first Ill crank fleets deal Italy\n",
      "Entry 1130: Okay ’ good\n",
      "Entry 1095: It ’ moving\n",
      "\n"
     ]
    }
   ],
   "source": [
    "from transformers import AutoTokenizer, AutoModel\n",
    "from torch.utils.data import DataLoader\n",
    "\n",
    "torch.manual_seed(0)\n",
    "np.random.seed(0)\n",
    "\n",
    "\n",
    "BERT_MODEL = \"roberta-base\"\n",
    "tokenizer = AutoTokenizer.from_pretrained(BERT_MODEL)\n",
    "base_model = AutoModel.from_pretrained(BERT_MODEL)\n",
    "\n",
    "train_dataloader = DataLoader(diplomacy_dataset(train_raw, tokenizer), batch_size=8, shuffle=True, num_workers=0)\n",
    "val_dataloader = DataLoader(diplomacy_dataset(val_raw, tokenizer), batch_size=8, num_workers=0)\n",
    "\n",
    "model = diplomacy_classifier(base_model)"
   ]
  },
  {
   "cell_type": "markdown",
   "metadata": {},
   "source": [
    "### Fine Tunning del modelo"
   ]
  },
  {
   "cell_type": "code",
   "execution_count": 130,
   "metadata": {
    "colab": {
     "base_uri": "https://localhost:8080/"
    },
    "executionInfo": {
     "elapsed": 900274,
     "status": "ok",
     "timestamp": 1721697009181,
     "user": {
      "displayName": "julian mazo",
      "userId": "12105072284643979037"
     },
     "user_tz": 300
    },
    "id": "nZTNd3nNbP1S",
    "outputId": "c28c5032-d17b-4280-8d4d-a1cdb6300745"
   },
   "outputs": [
    {
     "name": "stderr",
     "output_type": "stream",
     "text": [
      "100%|██████████| 774/774 [02:44<00:00,  4.70it/s]\n",
      "100%|██████████| 171/171 [00:10<00:00, 15.55it/s]\n"
     ]
    },
    {
     "name": "stdout",
     "output_type": "stream",
     "text": [
      "Epochs: 1 | Train Loss:  0.213 | Train Accuracy:  0.938 | Val Loss:  0.955 | Val Accuracy:  0.696\n",
      "Saved model\n"
     ]
    },
    {
     "name": "stderr",
     "output_type": "stream",
     "text": [
      "100%|██████████| 774/774 [02:48<00:00,  4.59it/s]\n",
      "100%|██████████| 171/171 [00:11<00:00, 15.31it/s]\n"
     ]
    },
    {
     "name": "stdout",
     "output_type": "stream",
     "text": [
      "Epochs: 2 | Train Loss:  0.169 | Train Accuracy:  0.956 | Val Loss:  1.566 | Val Accuracy:  0.590\n",
      "Early stopping\n"
     ]
    },
    {
     "name": "stderr",
     "output_type": "stream",
     "text": [
      "100%|██████████| 774/774 [02:49<00:00,  4.56it/s]\n",
      "100%|██████████| 171/171 [00:11<00:00, 15.26it/s]\n"
     ]
    },
    {
     "name": "stdout",
     "output_type": "stream",
     "text": [
      "Epochs: 3 | Train Loss:  0.158 | Train Accuracy:  0.958 | Val Loss:  1.411 | Val Accuracy:  0.646\n",
      "Early stopping\n"
     ]
    },
    {
     "name": "stderr",
     "output_type": "stream",
     "text": [
      "100%|██████████| 774/774 [02:49<00:00,  4.56it/s]\n",
      "100%|██████████| 171/171 [00:11<00:00, 15.26it/s]\n"
     ]
    },
    {
     "name": "stdout",
     "output_type": "stream",
     "text": [
      "Epochs: 4 | Train Loss:  0.144 | Train Accuracy:  0.962 | Val Loss:  1.403 | Val Accuracy:  0.649\n",
      "Early stopping\n"
     ]
    },
    {
     "name": "stderr",
     "output_type": "stream",
     "text": [
      "100%|██████████| 774/774 [02:49<00:00,  4.56it/s]\n",
      "100%|██████████| 171/171 [00:11<00:00, 15.26it/s]"
     ]
    },
    {
     "name": "stdout",
     "output_type": "stream",
     "text": [
      "Epochs: 5 | Train Loss:  0.136 | Train Accuracy:  0.965 | Val Loss:  1.612 | Val Accuracy:  0.654\n",
      "Early stopping\n"
     ]
    },
    {
     "name": "stderr",
     "output_type": "stream",
     "text": [
      "\n"
     ]
    }
   ],
   "source": [
    "learning_rate = 1e-5\n",
    "epochs = 5\n",
    "train(model, train_dataloader, val_dataloader, learning_rate, epochs)"
   ]
  },
  {
   "cell_type": "code",
   "execution_count": 89,
   "metadata": {
    "colab": {
     "base_uri": "https://localhost:8080/"
    },
    "executionInfo": {
     "elapsed": 5761,
     "status": "ok",
     "timestamp": 1721685051133,
     "user": {
      "displayName": "julian mazo",
      "userId": "12105072284643979037"
     },
     "user_tz": 300
    },
    "id": "Z_3KpFHL2khm",
    "outputId": "882753f6-a5ff-4031-9409-6593182689e0"
   },
   "outputs": [
    {
     "name": "stdout",
     "output_type": "stream",
     "text": [
      "Requirement already satisfied: torcheval in /usr/local/lib/python3.10/dist-packages (0.0.7)\n",
      "Requirement already satisfied: typing-extensions in /usr/local/lib/python3.10/dist-packages (from torcheval) (4.12.2)\n"
     ]
    }
   ],
   "source": [
    "!pip install torcheval"
   ]
  },
  {
   "cell_type": "code",
   "execution_count": 58,
   "metadata": {
    "executionInfo": {
     "elapsed": 234,
     "status": "ok",
     "timestamp": 1721675482664,
     "user": {
      "displayName": "julian mazo",
      "userId": "12105072284643979037"
     },
     "user_tz": 300
    },
    "id": "KSeZ2dhs2hnc"
   },
   "outputs": [],
   "source": [
    "from torcheval.metrics.functional import binary_f1_score\n",
    "#from torchmetrics.classification import BinaryF1Score"
   ]
  },
  {
   "cell_type": "markdown",
   "metadata": {},
   "source": [
    "### Evaluación del modelo"
   ]
  },
  {
   "cell_type": "code",
   "execution_count": 108,
   "metadata": {
    "executionInfo": {
     "elapsed": 232,
     "status": "ok",
     "timestamp": 1721694507236,
     "user": {
      "displayName": "julian mazo",
      "userId": "12105072284643979037"
     },
     "user_tz": 300
    },
    "id": "Hs88t-apbP3e"
   },
   "outputs": [],
   "source": [
    "def get_text_predictions(model, loader):\n",
    "    use_cuda = torch.cuda.is_available()\n",
    "    device = torch.device(\"cuda\" if use_cuda else \"cpu\")\n",
    "    y_pred = []\n",
    "    y_true = []\n",
    "    model = model.to(device)\n",
    "\n",
    "\n",
    "    results_predictions = []\n",
    "    with torch.no_grad():\n",
    "        model.eval()\n",
    "        for data_input, labels in tqdm(loader):\n",
    "            labels = labels.type(torch.LongTensor)\n",
    "            labels = labels.to(device)\n",
    "            attention_mask = data_input['attention_mask'].to(device)\n",
    "            input_ids = data_input['input_ids'].squeeze(1).to(device)\n",
    "\n",
    "\n",
    "            output = model(input_ids, attention_mask)\n",
    "            from torcheval.metrics.functional import binary_f1_score\n",
    "            #print(output)\n",
    "            output = (output > 0.5).int()\n",
    "            y_pred.extend(output.tolist())\n",
    "            y_true.extend(labels.tolist())\n",
    "            #results_predictions.append(output)\n",
    "    from sklearn.metrics import f1_score, confusion_matrix,\\\n",
    "    classification_report\n",
    "    f1_score_res = f1_score(y_true,y_pred)\n",
    "\n",
    "    print(classification_report(y_true, y_pred, labels=[0,1], digits=4))\n",
    "    cm = confusion_matrix(y_true, y_pred, labels=[0,1])\n",
    "    ax= plt.subplot()\n",
    "    sns.heatmap(cm, annot=True, ax = ax, cmap='Blues', fmt=\"d\")\n",
    "    #return torch.cat(results_predictions).cpu().detach().numpy()\n",
    "    return f1_score_res, y_pred"
   ]
  },
  {
   "cell_type": "code",
   "execution_count": 131,
   "metadata": {
    "colab": {
     "base_uri": "https://localhost:8080/"
    },
    "executionInfo": {
     "elapsed": 1569,
     "status": "ok",
     "timestamp": 1721697025785,
     "user": {
      "displayName": "julian mazo",
      "userId": "12105072284643979037"
     },
     "user_tz": 300
    },
    "id": "qqeSa39YbP6R",
    "outputId": "8cb26c1f-93c9-4516-ea86-516ed453cf83"
   },
   "outputs": [
    {
     "name": "stdout",
     "output_type": "stream",
     "text": [
      "Entry 860: So looks like worked something Russia carve Germany ’ reorienting You want coordinate anything I “ enemy ” 🙂\n",
      "Entry 1294: I inclined agree How would like approach Scandinavia\n",
      "Entry 1130: whats\n",
      "Entry 1095: And reason trust HolBel would mean lose one two since Russia MunRuh cut Ruh S Hol counterattacked Bur RuhMun could possibly take Munich\n",
      "Entry 1638: Thoughts moves\n",
      "\n"
     ]
    }
   ],
   "source": [
    "#model = torch.load(\"best_model.pt\")\n",
    "\n",
    "test_dataloader = DataLoader(diplomacy_dataset(test_raw, tokenizer),\n",
    "\tbatch_size=8, shuffle=False, num_workers=0)"
   ]
  },
  {
   "cell_type": "markdown",
   "metadata": {},
   "source": [
    "###  Matriz de confusión"
   ]
  },
  {
   "cell_type": "code",
   "execution_count": 132,
   "metadata": {
    "colab": {
     "base_uri": "https://localhost:8080/",
     "height": 621
    },
    "executionInfo": {
     "elapsed": 21144,
     "status": "ok",
     "timestamp": 1721697049998,
     "user": {
      "displayName": "julian mazo",
      "userId": "12105072284643979037"
     },
     "user_tz": 300
    },
    "id": "prek2wg3vTnp",
    "outputId": "688377e1-504b-4db0-cbe7-84e76dc4aadc"
   },
   "outputs": [
    {
     "name": "stderr",
     "output_type": "stream",
     "text": [
      "100%|██████████| 322/322 [00:20<00:00, 15.55it/s]\n"
     ]
    },
    {
     "name": "stdout",
     "output_type": "stream",
     "text": [
      "              precision    recall  f1-score   support\n",
      "\n",
      "           0     0.9435    0.6207    0.7488      2341\n",
      "           1     0.1429    0.6298    0.2329       235\n",
      "\n",
      "    accuracy                         0.6215      2576\n",
      "   macro avg     0.5432    0.6252    0.4908      2576\n",
      "weighted avg     0.8705    0.6215    0.7017      2576\n",
      "\n",
      "f1_score: 0.23288749016522423\n"
     ]
    },
    {
     "data": {
      "image/png": "[encoded data removed]",
      "text/plain": [
       "<Figure size 640x480 with 2 Axes>"
      ]
     },
     "metadata": {},
     "output_type": "display_data"
    }
   ],
   "source": [
    "f1_score, y_true = get_text_predictions(model, test_dataloader)\n",
    "print(f'f1_score: {f1_score}')"
   ]
  },
  {
   "cell_type": "markdown",
   "metadata": {
    "id": "8l15YPMmJ8JX"
   },
   "source": [
    "### Según la matriz de confusión se puede obtener un F1 Score macro de 0.50 aproximadamente"
   ]
  },
  {
   "cell_type": "code",
   "execution_count": null,
   "metadata": {
    "id": "-Bu6heEYbQsi"
   },
   "outputs": [],
   "source": []
  }
 ],
 "metadata": {
  "accelerator": "GPU",
  "colab": {
   "authorship_tag": "ABX9TyPJqPtqPT51zJv8CLNDJmsD",
   "gpuType": "T4",
   "machine_shape": "hm",
   "mount_file_id": "19xGvjhbeitMO2s5dt1D6og3jFWc5de6w",
   "provenance": [
    {
     "file_id": "19xGvjhbeitMO2s5dt1D6og3jFWc5de6w",
     "timestamp": 1721668017694
    }
   ]
  },
  "kernelspec": {
   "display_name": "Python 3 (ipykernel)",
   "language": "python",
   "name": "python3"
  },
  "language_info": {
   "codemirror_mode": {
    "name": "ipython",
    "version": 3
   },
   "file_extension": ".py",
   "mimetype": "text/x-python",
   "name": "python",
   "nbconvert_exporter": "python",
   "pygments_lexer": "ipython3",
   "version": "3.10.5"
  }
 },
 "nbformat": 4,
 "nbformat_minor": 1
}
